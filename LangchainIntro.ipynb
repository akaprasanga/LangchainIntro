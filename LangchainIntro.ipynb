{
 "cells": [
  {
   "cell_type": "markdown",
   "id": "f80e1b00-2168-4afe-abf1-a099f7be82f9",
   "metadata": {},
   "source": [
    "# Models"
   ]
  },
  {
   "cell_type": "code",
   "execution_count": null,
   "id": "c5e797b8-43db-4248-bee7-8cbb530b65dc",
   "metadata": {},
   "outputs": [],
   "source": [
    "from dotenv import load_dotenv\n",
    "import os\n",
    "import warnings\n",
    "warnings.filterwarnings('ignore')\n",
    "load_dotenv()"
   ]
  },
  {
   "cell_type": "markdown",
   "id": "c8740058-bbc0-4f36-92f8-6a89fbb1bce5",
   "metadata": {},
   "source": [
    "### HuggingFace model"
   ]
  },
  {
   "cell_type": "code",
   "execution_count": null,
   "id": "679a0808-7bb2-4ae6-a21c-a5b831cbe33f",
   "metadata": {},
   "outputs": [],
   "source": [
    "from langchain import HuggingFaceHub\n",
    "hgg_model = HuggingFaceHub(huggingfacehub_api_token=os.getenv('HUGGING_FACE_API_KEY'),repo_id='mistralai/Mixtral-8x7B-Instruct-v0.1')\n",
    "question = \"Hi there, could please explain who are you?\"\n",
    "response = hgg_model(question)\n",
    "print(response)"
   ]
  },
  {
   "cell_type": "markdown",
   "id": "decff525-3729-440a-8fec-ef6d940c1d62",
   "metadata": {},
   "source": [
    "### OpenAI Model"
   ]
  },
  {
   "cell_type": "code",
   "execution_count": null,
   "id": "f3f9d5a2-633c-492e-a670-f9b1d36a6c66",
   "metadata": {},
   "outputs": [],
   "source": [
    "from langchain.llms import OpenAI\n",
    "\n",
    "# create OPenAI model here by passing your api key\n",
    "question = \"Hi there, could please explain who are you?\"\n",
    "response = openai_model(question)\n",
    "print(response)"
   ]
  },
  {
   "cell_type": "markdown",
   "id": "5987dbf5-d53b-4de9-9b5c-392d2e0e9035",
   "metadata": {},
   "source": [
    "### Embedding Model"
   ]
  },
  {
   "cell_type": "code",
   "execution_count": null,
   "id": "2d8cc722-c092-4b1b-a315-936c8db41153",
   "metadata": {},
   "outputs": [],
   "source": [
    "from langchain.embeddings import HuggingFaceEmbeddings\n",
    "from langchain.vectorstores import faiss\n",
    "\n",
    "embeddings=HuggingFaceEmbeddings(model_name=\"sentence-transformers/all-MiniLM-L6-v2\",\n",
    "                                     model_kwargs={'device':'cpu'})\n",
    "#Create an embedding here using faiss.FAISS.from_texts\n",
    "print(embedded_vector)"
   ]
  },
  {
   "cell_type": "markdown",
   "id": "7ade9347-90d0-4bd8-b6a7-97ff517e7e03",
   "metadata": {},
   "source": [
    "# Prompts"
   ]
  },
  {
   "cell_type": "code",
   "execution_count": null,
   "id": "e456592f-3b75-4800-94e4-6f77f32ee3e0",
   "metadata": {},
   "outputs": [],
   "source": [
    "from langchain import PromptTemplate\n",
    "\n",
    "template = \"\"\"\n",
    "    Explain the concept of {concept} in a {lines} sentences.\n",
    "\"\"\"\n",
    "\n",
    "prompt = PromptTemplate(\n",
    "    input_variables=[\"concept\", \"lines\"],\n",
    "    template=template,\n",
    ")\n",
    "# print prompts for different values of concept and lines"
   ]
  },
  {
   "cell_type": "markdown",
   "id": "a96c2fe0-5bd1-4130-918a-3eaf2b1efd93",
   "metadata": {},
   "source": [
    "# Chains"
   ]
  },
  {
   "cell_type": "code",
   "execution_count": null,
   "id": "5b8a5df2-4152-4cbb-b9ca-7263b4dfa914",
   "metadata": {},
   "outputs": [],
   "source": [
    "from langchain.chains import LLMChain\n",
    "chain = LLMChain(llm=hgg_model, prompt=prompt)\n",
    "\n",
    "# Run the chain only specifying the input variables. May need to pass parameters using Dictionary\n",
    "\n",
    "print(llm_response)"
   ]
  },
  {
   "cell_type": "markdown",
   "id": "cf4e07cb-db64-4c70-bce3-0f6e934ded07",
   "metadata": {},
   "source": [
    "# Memory"
   ]
  },
  {
   "cell_type": "code",
   "execution_count": null,
   "id": "c30e9da0-7505-486b-8f52-025ac7bc6432",
   "metadata": {},
   "outputs": [],
   "source": [
    "from langchain.chains import ConversationChain\n",
    "\n",
    "conversation = ConversationChain(llm=hgg_model)\n",
    "\n",
    "response_one = conversation.predict(input ='Hi I am Prasanga. I live in NorthEast US.')\n",
    "print(response_one)\n",
    "print(conversation.memory)"
   ]
  },
  {
   "cell_type": "code",
   "execution_count": null,
   "id": "90f0048f-f03b-4025-b4b7-eba0818b5be9",
   "metadata": {},
   "outputs": [],
   "source": [
    "reponse_two = conversation.predict(input='Can you name some popular cities near me?')\n",
    "print(reponse_two)\n",
    "print(conversation.memory)"
   ]
  },
  {
   "cell_type": "code",
   "execution_count": null,
   "id": "f7c30437-1a18-4668-b2af-b087555331ac",
   "metadata": {},
   "outputs": [],
   "source": []
  }
 ],
 "metadata": {
  "kernelspec": {
   "display_name": "Python 3 (ipykernel)",
   "language": "python",
   "name": "python3"
  },
  "language_info": {
   "codemirror_mode": {
    "name": "ipython",
    "version": 3
   },
   "file_extension": ".py",
   "mimetype": "text/x-python",
   "name": "python",
   "nbconvert_exporter": "python",
   "pygments_lexer": "ipython3",
   "version": "3.11.3"
  }
 },
 "nbformat": 4,
 "nbformat_minor": 5
}
